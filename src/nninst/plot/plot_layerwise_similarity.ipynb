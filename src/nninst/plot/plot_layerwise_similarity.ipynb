{
 "cells": [
  {
   "cell_type": "code",
   "execution_count": 12,
   "metadata": {
    "collapsed": true,
    "pycharm": {
     "is_executing": false
    }
   },
   "outputs": [],
   "source": [
    "import pandas as pd\n",
    "import numpy as np\n",
    "import seaborn as sns\n",
    "from nninst.utils.fs import abspath\n",
    "from nninst.backend.tensorflow.model import AlexNet\n",
    "from nninst.op import Conv2dOp, DenseOp"
   ]
  },
  {
   "cell_type": "code",
   "execution_count": 2,
   "outputs": [],
   "source": [
    "threshold = 0.5"
   ],
   "metadata": {
    "collapsed": false,
    "pycharm": {
     "name": "#%%\n",
     "is_executing": false
    }
   }
  },
  {
   "cell_type": "code",
   "execution_count": 7,
   "outputs": [],
   "source": [
    "path_template = \"alexnet_imagenet_real_metrics_per_layer_{0:.1f}_{1}_{2}.csv\"\n",
    "attack_name=\"normal\"\n",
    "label_name=\"import_rank1\"\n",
    "path=\"metrics/\" + path_template.format(\n",
    "                        threshold,\n",
    "                        attack_name,\n",
    "                        label_name,\n",
    "                    )\n",
    "df = pd.read_csv(abspath(path))\n",
    "df.info()"
   ],
   "metadata": {
    "collapsed": false,
    "pycharm": {
     "name": "#%%\n",
     "is_executing": false
    }
   }
  },
  {
   "cell_type": "code",
   "execution_count": 10,
   "outputs": [
    {
     "name": "stdout",
     "text": [
      "<class 'pandas.core.frame.DataFrame'>\n",
      "RangeIndex: 533 entries, 0 to 532\n",
      "Data columns (total 34 columns):\n",
      "Unnamed: 0                                       533 non-null int64\n",
      "class_id                                         533 non-null int64\n",
      "conv2d/Conv2D.overlap_size_in_class              533 non-null int64\n",
      "conv2d/Conv2D.overlap_size_total                 533 non-null int64\n",
      "conv2d_1/Conv2D.overlap_size_in_class            533 non-null int64\n",
      "conv2d_1/Conv2D.overlap_size_total               533 non-null int64\n",
      "conv2d_2/Conv2D.overlap_size_in_class            533 non-null int64\n",
      "conv2d_2/Conv2D.overlap_size_total               533 non-null int64\n",
      "conv2d_3/Conv2D.overlap_size_in_class            533 non-null int64\n",
      "conv2d_3/Conv2D.overlap_size_total               533 non-null int64\n",
      "conv2d_4/Conv2D.overlap_size_in_class            533 non-null int64\n",
      "conv2d_4/Conv2D.overlap_size_total               533 non-null int64\n",
      "dense/MatMul.overlap_size_in_class               533 non-null int64\n",
      "dense/MatMul.overlap_size_total                  533 non-null int64\n",
      "dense_1/MatMul.overlap_size_in_class             533 non-null int64\n",
      "dense_1/MatMul.overlap_size_total                533 non-null int64\n",
      "dense_2/MatMul.overlap_size_in_class             533 non-null int64\n",
      "dense_2/MatMul.overlap_size_total                533 non-null int64\n",
      "image_id                                         533 non-null int64\n",
      "label                                            533 non-null int64\n",
      "max_pooling2d/MaxPool.overlap_size_in_class      533 non-null int64\n",
      "max_pooling2d/MaxPool.overlap_size_total         533 non-null int64\n",
      "max_pooling2d/MaxPool_1.overlap_size_in_class    533 non-null int64\n",
      "max_pooling2d/MaxPool_1.overlap_size_total       533 non-null int64\n",
      "max_pooling2d/MaxPool_2.overlap_size_in_class    533 non-null int64\n",
      "max_pooling2d/MaxPool_2.overlap_size_total       533 non-null int64\n",
      "conv2d/Conv2D.similarity                         533 non-null float64\n",
      "conv2d_1/Conv2D.similarity                       533 non-null float64\n",
      "conv2d_2/Conv2D.similarity                       533 non-null float64\n",
      "conv2d_3/Conv2D.similarity                       533 non-null float64\n",
      "conv2d_4/Conv2D.similarity                       533 non-null float64\n",
      "dense/MatMul.similarity                          533 non-null float64\n",
      "dense_1/MatMul.similarity                        533 non-null float64\n",
      "dense_2/MatMul.similarity                        533 non-null float64\n",
      "dtypes: float64(8), int64(26)\n",
      "memory usage: 141.7 KB\n"
     ],
     "output_type": "stream"
    }
   ],
   "source": [
    "layers = AlexNet.graph().load().ops_in_layers(Conv2dOp, DenseOp)\n",
    "for layer in layers:\n",
    "    df[f\"{layer}.similarity\"] = df[f\"{layer}.overlap_size_in_class\"] / df[f\"{layer}.overlap_size_total\"]\n",
    "df.info()"
   ],
   "metadata": {
    "collapsed": false,
    "pycharm": {
     "name": "#%%\n",
     "is_executing": false
    }
   }
  },
  {
   "cell_type": "code",
   "execution_count": 18,
   "outputs": [
    {
     "name": "stdout",
     "text": [
      "<class 'pandas.core.frame.DataFrame'>\n",
      "RangeIndex: 4264 entries, 0 to 4263\n",
      "Data columns (total 2 columns):\n",
      "Similarity    4264 non-null float64\n",
      "Layer         4264 non-null object\n",
      "dtypes: float64(1), object(1)\n",
      "memory usage: 66.7+ KB\n"
     ],
     "output_type": "stream"
    }
   ],
   "source": [
    "similarity_col = np.concatenate([df[f\"{layer}.similarity\"] \n",
    "                                 for layer in layers])\n",
    "layer_col = np.concatenate([[layer[:layer.index(\"/\")]] * len(df[f\"{layer}.similarity\"])\n",
    "                            for layer in layers])\n",
    "plot_df = pd.DataFrame({\"Similarity\": similarity_col, \"Layer\": layer_col})\n",
    "plot_df.info()"
   ],
   "metadata": {
    "collapsed": false,
    "pycharm": {
     "name": "#%%\n",
     "is_executing": false
    }
   }
  },
  {
   "cell_type": "code",
   "execution_count": 20,
   "outputs": [
    {
     "data": {
      "text/plain": "<Figure size 432x288 with 1 Axes>",
      "image/png": "[encoded data removed]"
     },
     "metadata": {
      "needs_background": "light"
     },
     "output_type": "display_data"
    }
   ],
   "source": [
    "ax = sns.boxplot(x=\"Layer\", y=\"Similarity\", data=plot_df)\n",
    "ax.tick_params(axis=\"x\", labelrotation=45)\n",
    "\n"
   ],
   "metadata": {
    "collapsed": false,
    "pycharm": {
     "name": "#%%\n",
     "is_executing": false
    }
   }
  },
  {
   "cell_type": "code",
   "execution_count": 26,
   "outputs": [],
   "source": [
    "summary_df = plot_df.groupby(\"Layer\").mean().reset_index()\n",
    "summary_df.to_csv(\"layerwise_similarity_alexnet_imagenet.csv\", index=False)\n"
   ],
   "metadata": {
    "collapsed": false,
    "pycharm": {
     "name": "#%%\n",
     "is_executing": false
    }
   }
  }
 ],
 "metadata": {
  "kernelspec": {
   "display_name": "Python 3",
   "language": "python",
   "name": "python3"
  },
  "language_info": {
   "codemirror_mode": {
    "name": "ipython",
    "version": 2
   },
   "file_extension": ".py",
   "mimetype": "text/x-python",
   "name": "python",
   "nbconvert_exporter": "python",
   "pygments_lexer": "ipython2",
   "version": "2.7.6"
  },
  "pycharm": {
   "stem_cell": {
    "cell_type": "raw",
    "source": [],
    "metadata": {
     "collapsed": false
    }
   }
  }
 },
 "nbformat": 4,
 "nbformat_minor": 0
}
