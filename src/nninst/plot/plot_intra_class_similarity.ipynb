{
 "cells": [
  {
   "cell_type": "code",
   "execution_count": 6,
   "metadata": {
    "collapsed": true,
    "pycharm": {
     "is_executing": false
    }
   },
   "outputs": [],
   "source": [
    "import numpy as np\n",
    "import pandas as pd\n",
    "import seaborn as sns\n",
    "\n",
    "from nninst.backend.tensorflow.attack.common import intra_class_similarity"
   ]
  },
  {
   "cell_type": "code",
   "execution_count": 2,
   "outputs": [],
   "source": [
    "threshold = 0.5\n",
    "attack_name = \"original\""
   ],
   "metadata": {
    "collapsed": false,
    "pycharm": {
     "name": "#%%\n",
     "is_executing": false
    }
   }
  },
  {
   "cell_type": "code",
   "execution_count": 4,
   "outputs": [
    {
     "name": "stdout",
     "text": [
      "<class 'pandas.core.frame.DataFrame'>\n",
      "RangeIndex: 45 entries, 0 to 44\n",
      "Data columns (total 10 columns):\n",
      "0      45 non-null float64\n",
      "100    45 non-null float64\n",
      "200    45 non-null float64\n",
      "300    45 non-null float64\n",
      "400    45 non-null float64\n",
      "500    45 non-null float64\n",
      "600    45 non-null float64\n",
      "700    45 non-null float64\n",
      "800    45 non-null float64\n",
      "900    45 non-null float64\n",
      "dtypes: float64(10)\n",
      "memory usage: 3.6 KB\n"
     ],
     "output_type": "stream"
    }
   ],
   "source": [
    "name = \"alexnet_imagenet\"\n",
    "label = \"import\"\n",
    "class_to_similarity = {}\n",
    "for class_id in range(0, 1000, 100):\n",
    "    similarity = intra_class_similarity(\n",
    "            name=name,\n",
    "            threshold=threshold,\n",
    "            class_id=class_id,\n",
    "            attack_name=attack_name,\n",
    "            label=label,\n",
    "            example_trace_fn=None,\n",
    "            image_ids=None,\n",
    "    ).load()\n",
    "    class_to_similarity[str(class_id)] = similarity[np.tri(similarity.shape[0], similarity.shape[1], k=-1, dtype=bool)]\n",
    "df = pd.DataFrame(class_to_similarity)\n",
    "df.info()"
   ],
   "metadata": {
    "collapsed": false,
    "pycharm": {
     "name": "#%%\n",
     "is_executing": false
    }
   }
  },
  {
   "cell_type": "code",
   "execution_count": 5,
   "outputs": [
    {
     "name": "stdout",
     "text": [
      "<class 'pandas.core.frame.DataFrame'>\n",
      "RangeIndex: 450 entries, 0 to 449\n",
      "Data columns (total 2 columns):\n",
      "Similarity    450 non-null float64\n",
      "Class         450 non-null object\n",
      "dtypes: float64(1), object(1)\n",
      "memory usage: 7.1+ KB\n"
     ],
     "output_type": "stream"
    }
   ],
   "source": [
    "similarity_col = np.concatenate([df[str(class_id)] \n",
    "                                 for class_id in range(0, 1000, 100)])\n",
    "class_col = np.concatenate([[str(class_id)] * len(df[str(class_id)])\n",
    "                            for class_id in range(0, 1000, 100)])\n",
    "plot_df = pd.DataFrame({\"Similarity\": similarity_col, \"Class\": class_col})\n",
    "plot_df.info()"
   ],
   "metadata": {
    "collapsed": false,
    "pycharm": {
     "name": "#%%\n",
     "is_executing": false
    }
   }
  },
  {
   "cell_type": "code",
   "execution_count": 7,
   "outputs": [
    {
     "data": {
      "text/plain": "<Figure size 432x288 with 1 Axes>",
      "image/png": "[encoded data removed]"
     },
     "metadata": {
      "needs_background": "light"
     },
     "output_type": "display_data"
    }
   ],
   "source": [
    "ax = sns.boxplot(x=\"Class\", y=\"Similarity\", data=plot_df)\n"
   ],
   "metadata": {
    "collapsed": false,
    "pycharm": {
     "name": "#%%\n",
     "is_executing": false
    }
   }
  }
 ],
 "metadata": {
  "kernelspec": {
   "display_name": "Python 3",
   "language": "python",
   "name": "python3"
  },
  "language_info": {
   "codemirror_mode": {
    "name": "ipython",
    "version": 2
   },
   "file_extension": ".py",
   "mimetype": "text/x-python",
   "name": "python",
   "nbconvert_exporter": "python",
   "pygments_lexer": "ipython2",
   "version": "2.7.6"
  },
  "pycharm": {
   "stem_cell": {
    "cell_type": "raw",
    "source": [],
    "metadata": {
     "collapsed": false
    }
   }
  }
 },
 "nbformat": 4,
 "nbformat_minor": 0
}
